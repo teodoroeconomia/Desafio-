{
 "cells": [
  {
   "cell_type": "code",
   "execution_count": null,
   "metadata": {},
   "outputs": [],
   "source": [
    "# Imports\n",
    "\n",
    "import pandas as pd\n",
    "import openai\n",
    "import os\n",
    "from scipy.spatial import distance\n",
    "\n",
    "from funcoes.embeddings import (\n",
    "    embedding_from_string,\n",
    "    pegar_embedding_cache,\n",
    "    adicionar_embeddings\n",
    ")"
   ]
  },
  {
   "cell_type": "code",
   "execution_count": null,
   "metadata": {},
   "outputs": [],
   "source": [
    "# Configurations\n",
    "\n",
    "openai.api_key = os.environ.get(\"OPEN_API_KEY\")\n",
    "model = os.environ.get(\"EMBEDDINGS_MODEL\")\n",
    "embedding_cache_path = os.environ.get(\"EMBEDDINGS_CACHE_PATH\")\n",
    "embedding_cache = pegar_embedding_cache(embedding_cache_path)\n",
    "\n",
    "pd.set_option('display.max_rows', 100)\n",
    "pd.set_option('display.max_colwidth', 1000)"
   ]
  },
  {
   "cell_type": "code",
   "execution_count": null,
   "metadata": {},
   "outputs": [],
   "source": [
    "# Getting data\n",
    "\n",
    "columns_to_read = ['name','description','employees','total_funding','city','subcountry','lat','lng']\n",
    "dados = pd.read_excel('base_dados_3.xls', usecols=columns_to_read)"
   ]
  },
  {
   "cell_type": "code",
   "execution_count": null,
   "metadata": {},
   "outputs": [],
   "source": [
    "# Getting a sampple\n",
    "\n",
    "dados_reduzidos = dados[0:16150]"
   ]
  },
  {
   "cell_type": "code",
   "execution_count": null,
   "metadata": {},
   "outputs": [],
   "source": [
    "# Getting embeddings\n",
    "\n",
    "adicionar_embeddings(dados_reduzidos, 'description', model, embedding_cache, embedding_cache_path)"
   ]
  },
  {
   "cell_type": "code",
   "execution_count": null,
   "metadata": {},
   "outputs": [],
   "source": [
    "# Creating a string of interesting and it's embeddings\n",
    "\n",
    "string = 'Solutions on waste and water - Improve water quality and water efficiency use - Water contamination - Water for human consumption - Water resources'\n",
    "vetor_comparativo = embedding_from_string(string, model, embedding_cache, embedding_cache_path)"
   ]
  },
  {
   "cell_type": "code",
   "execution_count": null,
   "metadata": {},
   "outputs": [],
   "source": [
    "# Calculating the distances\n",
    "\n",
    "distancias = [distance.cosine(vetor_comparativo, emb) for emb in dados_reduzidos['Embeddings']]\n",
    "dados_reduzidos['distancias'] = distancias"
   ]
  },
  {
   "cell_type": "code",
   "execution_count": null,
   "metadata": {},
   "outputs": [],
   "source": [
    "# Verifying the presence of the term 'water' \n",
    "\n",
    "dados_reduzidos['contem_termo'] = dados_reduzidos['description'].str.contains(' water ', case=False, na=False).astype(int)"
   ]
  },
  {
   "cell_type": "code",
   "execution_count": null,
   "metadata": {},
   "outputs": [],
   "source": [
    "# Sorting the values\n",
    "\n",
    "dados_reduzidos = dados_reduzidos.sort_values(by=['contem_termo','distancias'],ascending=[False, True])"
   ]
  },
  {
   "cell_type": "code",
   "execution_count": null,
   "metadata": {},
   "outputs": [],
   "source": [
    "# Saving temporary results\n",
    "\n",
    "dados_reduzidos.to_csv('dados_reduzidos.csv')"
   ]
  },
  {
   "cell_type": "code",
   "execution_count": null,
   "metadata": {},
   "outputs": [],
   "source": [
    "# Checking temporary results\n",
    "\n",
    "dados_reduzidos[['description','contem_termo']].iloc[0:100]"
   ]
  },
  {
   "cell_type": "code",
   "execution_count": null,
   "metadata": {},
   "outputs": [],
   "source": [
    "# Creating the results database\n",
    "\n",
    "dados_interesse = dados_reduzidos.iloc[0:89]"
   ]
  },
  {
   "cell_type": "code",
   "execution_count": null,
   "metadata": {},
   "outputs": [],
   "source": [
    "# Saving the results database\n",
    "\n",
    "dados_interesse.to_csv('dados_interesse.csv')"
   ]
  },
  {
   "cell_type": "code",
   "execution_count": 79,
   "metadata": {},
   "outputs": [
    {
     "data": {
      "text/plain": [
       "<Axes: >"
      ]
     },
     "execution_count": 79,
     "metadata": {},
     "output_type": "execute_result"
    },
    {
     "data": {
      "image/png": "[encoded data removed]",
      "text/plain": [
       "<Figure size 720x432 with 1 Axes>"
      ]
     },
     "metadata": {
      "needs_background": "light"
     },
     "output_type": "display_data"
    }
   ],
   "source": [
    "# Creating histogram\n",
    "\n",
    "dados_interesse['employees'].hist(bins=10, figsize=(10, 6), grid=False)"
   ]
  },
  {
   "cell_type": "code",
   "execution_count": 78,
   "metadata": {},
   "outputs": [
    {
     "data": {
      "text/plain": [
       "<Axes: >"
      ]
     },
     "execution_count": 78,
     "metadata": {},
     "output_type": "execute_result"
    },
    {
     "data": {
      "image/png": "[encoded data removed]",
      "text/plain": [
       "<Figure size 1440x432 with 1 Axes>"
      ]
     },
     "metadata": {
      "needs_background": "light"
     },
     "output_type": "display_data"
    }
   ],
   "source": [
    "# Creating histogram\n",
    "\n",
    "dados_interesse['city'].hist(bins=10, figsize=(20, 6), grid=False)"
   ]
  }
 ],
 "metadata": {
  "kernelspec": {
   "display_name": "Python 3",
   "language": "python",
   "name": "python3"
  },
  "language_info": {
   "codemirror_mode": {
    "name": "ipython",
    "version": 3
   },
   "file_extension": ".py",
   "mimetype": "text/x-python",
   "name": "python",
   "nbconvert_exporter": "python",
   "pygments_lexer": "ipython3",
   "version": "3.10.11"
  }
 },
 "nbformat": 4,
 "nbformat_minor": 2
}
